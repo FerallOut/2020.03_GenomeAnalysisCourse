{
 "cells": [
  {
   "cell_type": "markdown",
   "metadata": {},
   "source": [
    "## Mon, 2020-03-30\n",
    "\n",
    "to do:  \n",
    "- [x] start a daily log  \n",
    "- [x] download git repository on Uppmax  \n",
    "- [x] do some organizatorial stuff:  \n",
    "    - [x] where are the data?  \n",
    "    - [x] how it looks like?  \n",
    "    - [x] create directory structure for the project  \n",
    "    - [x] link raw data into my \"raw_ext\" folder  \n",
    "- [x] make the project plan \n",
    "- [x] save daily log and project plan into \"notebooks\"  \n",
    "- [x] make the diagram for work flow  \n",
    "- [x] push changes to git "
   ]
  },
  {
   "cell_type": "markdown",
   "metadata": {},
   "source": [
    "- log in to Uppmax: **ssh -AX username@rackham.uppmax.uu.se**  \n",
    "- project number: **g2020008**  \n",
    "- where to run analyses: **/home/username/**  \n",
    "- where is the raw data: **/proj/g2020008/nobackup/private/1_Zhang_2017/**   "
   ]
  },
  {
   "cell_type": "markdown",
   "metadata": {},
   "source": [
    "sudo apt-get install tree  \n",
    "the directory tree: tree  \n",
    "<!-- <img style=\"float: left;\" src=\"images/short_data_dir_tree.png\" width=1x height=1x > -->\n",
    "<img style=\"float: left;\" src=\"images/long_data_dir_tree1.png\" /> "
   ]
  },
  {
   "cell_type": "markdown",
   "metadata": {},
   "source": [
    "<!-- <img style=\"float: left;\" src=\"images/short_data_dir_tree.png\" width=1x height=1x > -->\n",
    "<img style=\"float: left;\" src=\"images/long_data_dir_tree2.png\" /> "
   ]
  },
  {
   "cell_type": "markdown",
   "metadata": {},
   "source": [
    "  - connect to github to save the \"code\", \"results\" and \"notebook\" folders. \n",
    "    - copy repository to local machine: **git clone URL_of_your_repo**\n",
    "  - create a directory tree in my \"/home/username/git_repo/\" folder using a custom script:  \n",
    "    - write custom script: **0directory_tree.sh** \n",
    "    - copy script to uppmax (you need to be *not logged in* Uppmax):  \n",
    "   \t**scp address/local_file user@rackham.uppmax.uu.se:/home/usernameRackham/**  \n",
    "    - make script executable: **chmod u+x 0directory_tree.sh**  \n",
    "    - run script like this: **./0directory_tree.sh path_to_where_you_want_the_new_folder project_name** "
   ]
  },
  {
   "cell_type": "markdown",
   "metadata": {},
   "source": [
    "<!-- <img style=\"float: left;\" src=\"images/short_data_dir_tree.png\" width=1x height=1x > -->\n",
    "<img style=\"float: left;\" src=\"images/organiz_dir_tree.png\" /> "
   ]
  },
  {
   "cell_type": "markdown",
   "metadata": {},
   "source": [
    "- copy script into the correct folder:  \n",
    "    - make a new folder in \"code\", named \"0_organization\": **mkdir 0_organization**\n",
    "    - paste file there and add a README \n",
    "- create a soft link from the \"raw_ext\" folder in my directory tree to the raw data in the project:  \n",
    "**ln -s {source-filename} {symbolic-filename}**  \n",
    "**ln -s /proj/g2020008/nobackup/private/1_Zhang_2017/ link_to_raw_data**"
   ]
  },
  {
   "cell_type": "markdown",
   "metadata": {},
   "source": [
    "  ## Tue, 2020-03-31\n",
    "    "
   ]
  },
  {
   "cell_type": "code",
   "execution_count": null,
   "metadata": {},
   "outputs": [],
   "source": []
  }
 ],
 "metadata": {
  "kernelspec": {
   "display_name": "Python 3",
   "language": "python",
   "name": "python3"
  },
  "language_info": {
   "codemirror_mode": {
    "name": "ipython",
    "version": 3
   },
   "file_extension": ".py",
   "mimetype": "text/x-python",
   "name": "python",
   "nbconvert_exporter": "python",
   "pygments_lexer": "ipython3",
   "version": "3.7.4"
  }
 },
 "nbformat": 4,
 "nbformat_minor": 4
}
