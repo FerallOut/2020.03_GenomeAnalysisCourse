{
 "cells": [
  {
   "cell_type": "markdown",
   "metadata": {},
   "source": [
    "## Project Plan\n",
    "\n",
    "The **data** that I am working on is extracted from the paper: \"RNA-seq and Tn-seq reveal fitness determinants Enterococcus faecium during growth in human serum of vancomycin-resistant\" - Xinglin Zhang, Vincent de Maat, Ana M. Guzmán Prieto, Tomasz K. Prajsnar, Jumamurat R. Bayjanov, Mark de Been , Malbert R. C. Rogers, Marc J. M. Bonten, Stéphane Mesnage, Rob J. L. Willems and Willem van Schaik.    \n",
    "  \n",
    "The **aim of this project** is to determine which genetic elements are responsible for the growth of *Enterococcus faecium* vancomycin-resistant strain in human serum. This is important because *E. faecium* frequently causes bloodstream infections in hospitalized patients. After a *de-novo* assembly of the genome of *E. faecium*, is required to do a differential expression analysis of the transcriptome between 2 different states: the bacteria grown in rich medium or in human serum.  \n",
    "  \n",
    "The genome is available from NCBI Genbank (CP014529 - CP014535). Available DNA, RNA and transposons reads are in FASTQ format.  "
   ]
  },
  {
   "cell_type": "markdown",
   "metadata": {},
   "source": [
    "<!-- <img style=\"float: left;\" src=\"images/short_data_dir_tree.png\" width=175 > -->\n",
    "![eu](images/long_data_dir_tree1.png =150x100)"
   ]
  },
  {
   "cell_type": "markdown",
   "metadata": {},
   "source": [
    "![eu](images/long_data_dir_tree1.png =150)"
   ]
  },
  {
   "cell_type": "markdown",
   "metadata": {},
   "source": [
    "![eu](images/long_data_dir_tree1.png)  "
   ]
  },
  {
   "cell_type": "markdown",
   "metadata": {},
   "source": [
    "![Kitten](images/long_data_dir_tree1.png){: width=150 height=100 style=\"float:right; padding:16px\"}  "
   ]
  },
  {
   "cell_type": "markdown",
   "metadata": {},
   "source": [
    "![Kitten](images/long_data_dir_tree1.png){ width=50% }"
   ]
  },
  {
   "cell_type": "markdown",
   "metadata": {},
   "source": [
    "## Workflow\n",
    "\n",
    "1) Quality control of the long DNA reads (PacBio) for assembly  \n",
    "    - use **FASTQC** and generate a quality control report  \n",
    "2) If the reads pass QC, then move to step 3)   \n",
    "    - if not, pre-process the reads with **Trimmomatic** and do another quality control  \n",
    "3) Genome assembly of long reads (PacBio)  \n",
    "    - use **Canu** and **SPAdes**, each with various parameters  \n",
    "    \n",
    "4) Quality control of the short DNA reads (Illumina)  \n",
    "    - use **FASTQC** and generate a quality control report  \n",
    "5) Pre-processing the short reads    \n",
    "    - **Trimmomatic** and do another quality control  \n",
    "6) Mapping processed Illumina reads to PacBio assembly:  \n",
    "    - **BWA-MEM** for mapping   \n",
    "    - **Pilon** to combine genome assembly  \n",
    "7) Evaluate genome assembly  \n",
    "    - **QUAST**, **BCFtools**, **MUMmerplot**  \n",
    "    \n",
    "8) Genome assembly annotation:  \n",
    "    - **Prokka**, **Maker2**  \n",
    "9) Homology search:  \n",
    "    - **Blastn**   \n",
    "10) Synteny:  \n",
    "    - **ACT**  \n",
    "  \n",
    "11) Quality control of the RNA reads (Illumina)  \n",
    "    - use **FASTQC** and generate a quality control report  \n",
    "12) Pre-processing the short reads    \n",
    "    - **Trimmomatic** and do another quality control  \n",
    "13) RNA Mapping:  \n",
    "    - **BWA-MEM**\n",
    "\n",
    "14) Counting RNA reads:\n",
    "    - **HTseq-count**\n",
    "15) Differential expression \n",
    "    - **DEseq2**\n",
    "\n",
    "16) Biological interpretation of results\n",
    "    - **R**"
   ]
  },
  {
   "cell_type": "markdown",
   "metadata": {},
   "source": [
    "#### Deadlines to keep  \n",
    "\n",
    "|Done?|Day| Hours | Prokaryotes|\n",
    "|------|------|------|------|\n",
    "|[x]|24/3 | 2 |Seminar|\n",
    "|[ ]|30/3 |4 |Project planning|\n",
    "|[ ]|17/4 |4 |Genome Assembly + Genome annotation |\n",
    "|[ ]|29/4 |4 |Comparative genomics|\n",
    "|[ ]|8/5 |4| RNA mapping |"
   ]
  },
  {
   "cell_type": "markdown",
   "metadata": {},
   "source": [
    "#### Estimated analyses and their running time  \n",
    "  \n",
    "| Analysis | Software |Running time (for paper I)|\n",
    "|------|------|------|\n",
    "| Reads preprocessing | Trimmomatic | ~ 50 min per file (1 core) |\n",
    "| DNA assembly | Spades | (short reads + long reads) ~ 2 h (1 core) |\n",
    "|  | Canu | ~ 4,5 h (1 core) |\n",
    "| Assembly evaluation | Quast | < 15 min (1 core) |\n",
    "|  | MUMmerplot | < 5 min (1 core) |\n",
    "|  | BCFtools | ~ 90 min (1 core) |\n",
    "| Annotation | Prokka | < 5 min (1 core) |\n",
    "| Aligner | BWA | (paired-end reads): ~ 30 min (1 core) |\n",
    "|  |  | (single reads): < 15 min (1 core) |\n",
    "| Differential Expression | Htseq | (paired-end reads) ~ 2-7 h (1 core) |\n",
    "|  |  | (single reads) < 10 min (1 core) |\n",
    "|  | Deseq2 (R library) | Variable |"
   ]
  }
 ],
 "metadata": {
  "kernelspec": {
   "display_name": "Python 3",
   "language": "python",
   "name": "python3"
  },
  "language_info": {
   "codemirror_mode": {
    "name": "ipython",
    "version": 3
   },
   "file_extension": ".py",
   "mimetype": "text/x-python",
   "name": "python",
   "nbconvert_exporter": "python",
   "pygments_lexer": "ipython3",
   "version": "3.7.4"
  }
 },
 "nbformat": 4,
 "nbformat_minor": 4
}
