{
 "cells": [
  {
   "cell_type": "markdown",
   "metadata": {},
   "source": [
    "## Mon, 2020-03-30\n",
    "\n",
    "to do:  \n",
    "- [x] start a daily log  \n",
    "- [x] download git repository on Uppmax  \n",
    "- [x] do some organizatorial stuff:  \n",
    "    - [x] where are the data?  \n",
    "    - [x] how it looks like?  \n",
    "    - [x] create directory structure for the project  \n",
    "    - [x] link raw data into my \"raw_ext\" folder  \n",
    "- [x] make the project plan \n",
    "- [x] save daily log and project plan into \"notebooks\"  \n",
    "- [x] make the diagram for work flow  \n",
    "- [x] push changes to git "
   ]
  },
  {
   "cell_type": "markdown",
   "metadata": {},
   "source": [
    "- log in to Uppmax: **ssh -AX username@rackham.uppmax.uu.se**  \n",
    "- project number: **g2020008**  \n",
    "- where to run analyses: **/home/username/**  \n",
    "- where is the raw data: **/proj/g2020008/nobackup/private/1_Zhang_2017/**   "
   ]
  },
  {
   "cell_type": "markdown",
   "metadata": {},
   "source": [
    "sudo apt-get install tree\n",
    "\n",
    "the directory tree: tree  \n",
    ".  \n",
    "├── genomics_data  \n",
    "│   ├── Illumina  \n",
    "│   │   ├── E745-1.L500_SZAXPI015146-56_1_clean.fq.gz  \n",
    "│   │   └── E745-1.L500_SZAXPI015146-56_2_clean.fq.gz  \n",
    "│   ├── Nanopore  \n",
    "│   │   └── E745_all.fasta.gz  \n",
    "│   └── PacBio  \n",
    "│       ├── m131023_233432_42174_c100519312550000001823081209281335_s1_X0.1.subreads.fastq.gz  \n",
    "│       ├── m131023_233432_42174_c100519312550000001823081209281335_s1_X0.2.subreads.fastq.gz  \n",
    "│       ├── m131023_233432_42174_c100519312550000001823081209281335_s1_X0.3.subreads.fastq.gz  \n",
    "│       ├── m131024_200535_42174_c100563672550000001823084212221342_s1_p0.1.subreads.fastq.gz  \n",
    "│       ├── m131024_200535_42174_c100563672550000001823084212221342_s1_p0.2.subreads.fastq.gz  \n",
    "│       └── m131024_200535_42174_c100563672550000001823084212221342_s1_p0.3.subreads.fastq.gz  \n",
    "└── transcriptomics_data  \n",
    "    ├── RNA-Seq_BH  \n",
    "    │   ├── trim_paired_ERR1797972_pass_1.fastq.gz  \n",
    "    │   ├── trim_paired_ERR1797972_pass_2.fastq.gz  \n",
    "    │   ├── trim_paired_ERR1797973_pass_1.fastq.gz  \n",
    "    │   ├── trim_paired_ERR1797973_pass_2.fastq.gz  \n",
    "    │   ├── trim_paired_ERR1797974_pass_1.fastq.gz  \n",
    "    │   ├── trim_paired_ERR1797974_pass_2.fastq.gz  \n",
    "    │   ├── trim_single_ERR1797972_pass_1.fastq.gz  \n",
    "    │   ├── trim_single_ERR1797972_pass_2.fastq.gz  \n",
    "    │   ├── trim_single_ERR1797973_pass_1.fastq.gz  \n",
    "    │   ├── trim_single_ERR1797973_pass_2.fastq.gz  \n",
    "    │   ├── trim_single_ERR1797974_pass_1.fastq.gz  \n",
    "    │   └── trim_single_ERR1797974_pass_2.fastq.gz  \n",
    "    ├── RNA-Seq_Serum  \n",
    "    │   ├── trim_paired_ERR1797969_pass_1.fastq.gz  \n",
    "    │   ├── trim_paired_ERR1797969_pass_2.fastq.gz  \n",
    "    │   ├── trim_paired_ERR1797970_pass_1.fastq.gz  \n",
    "    │   ├── trim_paired_ERR1797970_pass_2.fastq.gz  \n",
    "    │   ├── trim_paired_ERR1797971_pass_1.fastq.gz  \n",
    "    │   ├── trim_paired_ERR1797971_pass_2.fastq.gz  \n",
    "    │   ├── trim_single_ERR1797969_pass_1.fastq.gz  \n",
    "    │   ├── trim_single_ERR1797969_pass_2.fastq.gz  \n",
    "    │   ├── trim_single_ERR1797970_pass_1.fastq.gz  \n",
    "    │   ├── trim_single_ERR1797970_pass_2.fastq.gz  \n",
    "    │   ├── trim_single_ERR1797971_pass_1.fastq.gz  \n",
    "    │   ├── trim_single_ERR1797971_pass_2.fastq.gz  \n",
    "    │   └── untrimmed  \n",
    "    │       ├── ERR1797969_pass_1.fastq.gz  \n",
    "    │       ├── ERR1797969_pass_2.fastq.gz  \n",
    "    │       ├── ERR1797970_pass_1.fastq.gz  \n",
    "    │       ├── ERR1797970_pass_2.fastq.gz  \n",
    "    │       ├── ERR1797971_pass_1.fastq.gz  \n",
    "    │       └── ERR1797971_pass_2.fastq.gz  \n",
    "    ├── Tn-Seq_BHI  \n",
    "    │   ├── trim_ERR1801012_pass.fastq.gz  \n",
    "    │   ├── trim_ERR1801013_pass.fastq.gz  \n",
    "    │   └── trim_ERR1801014_pass.fastq.gz  \n",
    "    ├── Tn-Seq_HSerum  \n",
    "    │   ├── trim_ERR1801009_pass.fastq.gz  \n",
    "    │   ├── trim_ERR1801010_pass.fastq.gz  \n",
    "    │   └── trim_ERR1801011_pass.fastq.gz  \n",
    "    └── Tn-Seq_Serum  \n",
    "        ├── trim_ERR1801006_pass.fastq.gz  \n",
    "        ├── trim_ERR1801007_pass.fastq.gz  \n",
    "        └── trim_ERR1801008_pass.fastq.gz  \n",
    "11 directories, 48 files  "
   ]
  },
  {
   "cell_type": "markdown",
   "metadata": {},
   "source": [
    "  - connect to github to save the \"code\", \"results\" and \"notebook\" folders. \n",
    "    - copy repository to local machine: **git clone URL_of_your_repo**\n",
    "  - create a directory tree in my \"/home/username/git_repo/\" folder using a custom script:  \n",
    "    - write custom script: **0directory_tree.sh** \n",
    "    - copy script to uppmax (you need to be *not logged in* Uppmax):  \n",
    "   \t**scp address/local_file user@rackham.uppmax.uu.se:/home/usernameRackham/**  \n",
    "    - make script executable: **chmod u+x 0directory_tree.sh**  \n",
    "    - run script like this: **./0directory_tree.sh path_to_where_you_want_the_new_folder project_name** "
   ]
  },
  {
   "cell_type": "raw",
   "metadata": {},
   "source": [
    "project_name\n",
    "├── code\n",
    "├── data\n",
    "│   ├── metadata\n",
    "│   ├── raw_ext\n",
    "│   └── raw_int\n",
    "├── doc\n",
    "├── logs\n",
    "├── notebooks\n",
    "├── readme.md\n",
    "├── results\n",
    "│   ├── figures\n",
    "│   ├── reports\n",
    "│   └── tables\n",
    "├── scratch\n",
    "└── temp\n",
    "14 directories, 1 file"
   ]
  },
  {
   "cell_type": "markdown",
   "metadata": {},
   "source": [
    "- copy script into the correct folder:  \n",
    "    - make a new folder in \"code\", named \"0_organization\": **mkdir 0_organization**\n",
    "    - paste file there and add a README \n",
    "- create a soft link from the \"raw_ext\" folder in my directory tree to the raw data in the project:  \n",
    "**ln -s {source-filename} {symbolic-filename}**  \n",
    "**ln -s /proj/g2020008/nobackup/private/1_Zhang_2017/ link_to_raw_data**"
   ]
  },
  {
   "cell_type": "markdown",
   "metadata": {},
   "source": [
    "  ## Tue, 2020-03-31\n",
    "    "
   ]
  },
  {
   "cell_type": "code",
   "execution_count": null,
   "metadata": {},
   "outputs": [],
   "source": []
  }
 ],
 "metadata": {
  "kernelspec": {
   "display_name": "Python 3",
   "language": "python",
   "name": "python3"
  },
  "language_info": {
   "codemirror_mode": {
    "name": "ipython",
    "version": 3
   },
   "file_extension": ".py",
   "mimetype": "text/x-python",
   "name": "python",
   "nbconvert_exporter": "python",
   "pygments_lexer": "ipython3",
   "version": "3.7.4"
  }
 },
 "nbformat": 4,
 "nbformat_minor": 4
}
