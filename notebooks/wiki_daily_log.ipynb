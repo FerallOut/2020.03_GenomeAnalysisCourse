{
 "cells": [
  {
   "cell_type": "markdown",
   "metadata": {},
   "source": [
    "# Mon, 2020-03-30\n",
    "\n",
    "to do:  \n",
    "- [x] start a daily log  \n",
    "- [x] download git repository on Uppmax  \n",
    "- [x] do some organizatorial stuff:  \n",
    "    - [x] where are the data?  \n",
    "    - [x] how it looks like?  \n",
    "    - [x] create directory structure for the project  \n",
    "    - [x] link raw data into my \"raw_ext\" folder  \n",
    "- [x] make the project plan \n",
    "- [x] save daily log and project plan into \"notebooks\"  \n",
    "- [x] make the diagram for work flow  \n",
    "- [x] push changes to git  \n",
    "***  "
   ]
  },
  {
   "cell_type": "markdown",
   "metadata": {},
   "source": [
    "- log in to Uppmax: ```ssh -AX username@rackham.uppmax.uu.se```  \n",
    "- project number: **g2020008**  \n",
    "- where to run analyses: **/home/username/**  \n",
    "- where is the raw data: **/proj/g2020008/nobackup/private/1_Zhang_2017/**   \n",
    "***  "
   ]
  },
  {
   "cell_type": "markdown",
   "metadata": {},
   "source": [
    "`sudo apt-get install tree`  \n",
    "the directory tree: tree  \n",
    "***  \n",
    "<!--![](images/long_data_dir_tree1.png)   -->\n",
    "\n",
    "<img style=\"float: left;\" src=\"images/long_data_dir_tree1.png\" width=500 > \n"
   ]
  },
  {
   "cell_type": "markdown",
   "metadata": {},
   "source": [
    "<!-- ![](images/long_data_dir_tree2.png) -->\n",
    "<img style=\"float: left;\" src=\"images/long_data_dir_tree2.png\" width=500 >  \n",
    "***    "
   ]
  },
  {
   "cell_type": "markdown",
   "metadata": {},
   "source": [
    "  - connect to github to save the **code**, **results** and **notebook** folders. \n",
    "    - copy repository to local machine: `git clone URL_of_your_repo`  \n",
    "  - create a directory tree in my \"/home/username/git_repo/\" folder using a custom script:  \n",
    "    - write custom script: **0directory_tree.sh** \n",
    "    - copy script to uppmax (you need to be *not logged in* Uppmax):  \n",
    "   \t`scp address/local_file user@rackham.uppmax.uu.se:/home/usernameRackham/`  \n",
    "    - make script executable: `chmod u+x 0directory_tree.sh`  \n",
    "    - run script like this: `./0directory_tree.sh path_to_where_you_want_the_new_folder project_name`  \n",
    "***   "
   ]
  },
  {
   "cell_type": "markdown",
   "metadata": {},
   "source": [
    "<img style=\"float: left;\" src=\"images/organiz_dir_tree.png\" width=150 />    \n",
    "<!-- ![](images/organiz_dir_tree.png) -->  "
   ]
  },
  {
   "cell_type": "markdown",
   "metadata": {},
   "source": [
    "- copy script into the correct folder:  \n",
    "    - make a new folder in **code**, named **0_organization**: `mkdir 0_organization`\n",
    "    - paste file there and add a README \n",
    "- create a soft link from the **raw_ext** folder in my directory tree to the raw data in the project:  \n",
    "**ln -s {source-filename} {symbolic-filename}**  \n",
    "`ln -s /proj/g2020008/nobackup/private/1_Zhang_2017/ link_to_raw_data`  \n",
    "***  "
   ]
  },
  {
   "cell_type": "markdown",
   "metadata": {},
   "source": [
    "  # Wed, 2020-04-01\n",
    " \n",
    "to do:  \n",
    "1. [ ] figure out how to correctly export jupyter to pdf (the images are not showing and the font is wrong)  \n",
    "2. [x] correct README.md showing directory tree  \n",
    "3. [x] change the diagram for the project plan to include received comments:  \n",
    "    1. [x] \"You don’t need to run QC on the PacBio reads, neither trimmomatic or FastQC are very good at handle long reads so you can skip that step.\"  \n",
    "    2. [x] \"For the Spades assembly you can input both long and short reads if you would like.\"  \n",
    "    3. [x] \"For the annotation part, it is enough to run Prokka, Maker2 is designed to run on eukaryotic genomes.\"  \n",
    "    4. [x] \"Also, please add a section on how you are going to organise scripts, data from analysis and so forth.\"   \n",
    "4. [x] push changes to git  \n",
    "***  "
   ]
  },
  {
   "cell_type": "markdown",
   "metadata": {},
   "source": [
    "### Task 1  \n",
    "Tried and failed:  \n",
    "- export from jupyter notebook depends on 'nbconvert' settings. It needs to have installed:  \n",
    "    - 'pandoc' (`sudo apt-get install pandoc`)  \n",
    "    - 'XeLaTex' (`sudo apt-get install texlive-xetex texlive-fonts-recommended texlive-generic-recommended`)  \n",
    "    - the output is bad, no image included  \n",
    "- export as html then convert to pdf with wkhtmltopdf (`sudo apt-get install wkhtmltopdf`)  \n",
    "    - didn't get it to work  \n",
    "- same but with pandoc  \n",
    "    - `pandoc test.html -t latex -o test.pdf`- works better (images are there and structure is preserved) but the layout need improving.  \n",
    "    - but directly from .ipynb to .pdf it doesn't work.  \n",
    "    - \"Pandoc first converts the Markdown file to LaTeX which then gets compiled to PDF\"-so the issue might be with LaTex.  \n",
    "- use 'nbconvert' directly:  **jupyter nbconvert --to output_format input_notebook**  \n",
    "    `jupyter nbconvert --to markdown wiki_daily_log.ipynb `  \n",
    "        \n",
    "- installed pandoc2. nothing works  \n",
    "        \n",
    "Will just export .ipybn to .md and upload it like that to git.  \n",
    "- `pandoc wiki_daily_log.ipynb -o wiki_daily_log_pandoc.md`  \n",
    "As pdf:  \n",
    "- `pandoc wiki_daily_log.ipynb -t latex -o test_pandoc.pdf`  \n",
    "***  \n"
   ]
  },
  {
   "cell_type": "markdown",
   "metadata": {},
   "source": [
    "Pandoc options:  \n",
    "    `--resource-path` defines the path where Pandoc will look for resources that are linked in the notebook. This allows us to discover images etc that are in a different folder from where we are invocing pandoc.  \n",
    "    `--extract-media` is a path where images and other media will be extracted at conversion time. Any links to images etc should point to files at this path in the output format.  \n",
    "    `-s` (or `--standalone`) tells Pandoc that the output should be a \"standalone\" format. This does different things depending on the output, such as adding a header if converting to HTML.  \n",
    "    `-o` the output file, and implicitly the output file type (e.g., markdown)  \n",
    "    `-t` the type of output file if we want to override the default (e.g., GitHub-flavored markdown vs. Pandoc markdown)  \n",
    "***  "
   ]
  },
  {
   "cell_type": "markdown",
   "metadata": {},
   "source": [
    "In the end, I realized that I can just write directly in .md with a simpler Markdown syntax. JupyterLab helps with the simultaneous \"Markdown Previewer\". In order for the images to appear in the Markdown document on gitHub, they have to be uploaded and linked to, using URL. "
   ]
  },
  {
   "cell_type": "markdown",
   "metadata": {},
   "source": [
    "  # Thu, 2020-04-02\n",
    " \n",
    "to do:  \n",
    "1. [ ] quality control on short reads (DNA - Illumina, RNA - Illumina)  \n",
    "    1. [ ] read about FASTQC   \n",
    "    2. [ ] do FASTQC on the samples and save the graphs/ report. Explain what the results mean.\n",
    "2. [ ] pre-processing of short reads      \n",
    "    1. [ ] read about Trimmomatic  \n",
    "    2. [ ] do Trimmomatic on the samples and save the graphs/ report. Explain what the results mean.\n",
    "3. [ ] again quality control on reads  \n",
    "    1. [ ] do FASTQC on the samples and save the graphs/ report. Explain what the results mean.\n",
    "4. [ ] document steps, scripts and results  \n",
    "5. [ ] push changes to git  "
   ]
  },
  {
   "cell_type": "markdown",
   "metadata": {},
   "source": [
    "### Where is the data?\n",
    "`pwd`  \n",
    "- genomic: Illumina DNA short-reads  \n",
    "    /home/miba8458/2020.03_GenomeAnalysisCourse/data/raw_ext/link_to_raw_data/genomics_data/Illumina  \n",
    "  \n",
    "    E745-1.L500_SZAXPI015146-56_1_clean.fq.gz  \n",
    "    E745-1.L500_SZAXPI015146-56_2_clean.fq.gz  \n",
    "      \n",
    "- transcriptomics: Illumina RNA short-reads  \n",
    "    - in rich medium: /home/miba8458/2020.03_GenomeAnalysisCourse/data/raw_ext/link_to_raw_data/transcriptomics_data/RNA-Seq_BH  \n",
    "    \n",
    "    trim_paired_ERR1797972_pass_1.fastq.gz  \n",
    "    \n",
    "    - in serum: /home/miba8458/2020.03_GenomeAnalysisCourse/data/raw_ext/link_to_raw_data/transcriptomics_data/RNA-Seq_Serum  \n",
    "    \n",
    "    ERR1797969_pass_1.fastq.gz\n",
    "    > what about the untrimmed data? It exists only for the serum condition  \n",
    "  \n",
    "- Transposomes:  \n",
    "    - in rich medium: /home/miba8458/2020.03_GenomeAnalysisCourse/data/raw_ext/link_to_raw_data/transcriptomics_data/Tn-Seq_BHI  \n",
    "    \n",
    "    - in heat-inactivated serum: /home/miba8458/2020.03_GenomeAnalysisCourse/data/raw_ext/link_to_raw_data/transcriptomics_data/Tn-Seq_HSerum  \n",
    "  \n",
    "    - in serum: /home/miba8458/2020.03_GenomeAnalysisCourse/data/raw_ext/link_to_raw_data/transcriptomics_data/Tn-Seq_Serum  "
   ]
  },
  {
   "cell_type": "markdown",
   "metadata": {},
   "source": [
    "### 1.A. FASTQC - theory   \n",
    "- see the FASTQC tutorials  "
   ]
  },
  {
   "cell_type": "markdown",
   "metadata": {},
   "source": [
    "### 1.B. Running FASTQC on the data  \n",
    "  \n",
    "- basic command:  \n",
    "    'fastqc [-o output dir] [--(no)extract] [-f fastq|bam|sam] [-c contaminant file] seqfile1 .. seqfileN'  \n",
    "    \n",
    "`fastqc --outdir=where_you_want_the_report file1_gzipped file2_gzipped file3_gzipped `  etc    \n",
    "- new file name: adds prefix \"fastqc.html\"\n",
    "- open report: `firefox SRR453566_yeast_rnaseq_fastqc.html &`  \n",
    "- have a look through the QC results to try to answer the following questions:\n",
    "    - Did any of the QC modules trigger a warning or alert condition?  \n",
    "    - Do the base call qualities provided by the sequencer suggest the data is high quality, or might it benefit from being quality trimmed?  \n",
    "    - Are there any consistent sequence biases in the data?  If so, can these be explained by the presence of contaminating sequences or other artefacts which are known to affect RNA-Seq datasets?  \n",
    "    - Is there any suggestion of the presence of adapter sequence which might need to be removed?  \n",
    "    - Does the duplication level of the data look reasonable given that this is RNA-Seq data?  \n",
    "- also answer these questions for the report:  \n",
    "    - What is the structure of a FASTQ file?\n",
    "    - How is the quality of the data stored in the FASTQ files? How are paired reads identified?\n",
    "    - How is the quality of your data?\n",
    "    - What can generate the issues you observe in your data? Can these cause any problems during subsequent analyses?"
   ]
  },
  {
   "cell_type": "markdown",
   "metadata": {},
   "source": [
    "- log in Uppmax:  \n",
    "`ssh -AX username@rackham.uppmax.uu.se`  \n",
    "- loading FastQC on Uppmax:  \n",
    "    - figure out which module:  \n",
    "    `module avail --starts-with, -F`\n",
    "    `module spider Fastqc`  \n",
    "    recommended \"module spider FastQC/0.11.8\"\n",
    "    - `module purge` -Unload all loaded modulefiles  \n",
    "    - `module load bioinfo-tools`  \n",
    "    - `module load FastQC`\n",
    "    - `fastqc --version`  \n",
    "    FastQC v0.11.8  \n",
    "    - `module list [-t|-l]` - List loaded modules in short/long format.\n",
    "    - `avail [-d|-L] [-t|-l] [-S|-C] [--indepth|--no-indepth] [path...]` - List all available modules default/latest, short/long format, whose name starts/=`\n",
    "- where to put the reports? in **results/reports/0fastqc_DNA_Illumina**  \n",
    "- from within that folder, run command:  \n",
    "`fastqc --outdir=/home/miba8458/2020.03_GenomeAnalysisCourse/results/reports/0fastqc_DNA_Illumina /home/miba8458/2020.03_GenomeAnalysisCourse/data/raw_ext/link_to_raw_data/genomics_data/Illumina/E745-1.L500_SZAXPI015146-56_*`  \n",
    "   \n",
    "- check the report:  \n",
    "`firefox E745-1.L500_SZAXPI015146-56_1_clean_fastqc.html &`  \n",
    "- Copy a file from your home directory on UPPMAX to your computer:  \n",
    "`scp user@rackham.uppmax.uu.se:/home/username/some-file local_file_or_directory`  "
   ]
  },
  {
   "cell_type": "markdown",
   "metadata": {},
   "source": []
  }
 ],
 "metadata": {
  "kernelspec": {
   "display_name": "Python 3",
   "language": "python",
   "name": "python3"
  },
  "language_info": {
   "codemirror_mode": {
    "name": "ipython",
    "version": 3
   },
   "file_extension": ".py",
   "mimetype": "text/x-python",
   "name": "python",
   "nbconvert_exporter": "python",
   "pygments_lexer": "ipython3",
   "version": "3.7.4"
  }
 },
 "nbformat": 4,
 "nbformat_minor": 4
}
